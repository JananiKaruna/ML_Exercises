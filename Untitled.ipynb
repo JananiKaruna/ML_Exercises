{
 "cells": [
  {
   "cell_type": "code",
   "execution_count": 4,
   "id": "a0ecc88d-3bda-41b2-a729-10ed8a582c97",
   "metadata": {},
   "outputs": [],
   "source": [
    "nums = [2, 7, 11, 15]\n",
    "target = 26"
   ]
  },
  {
   "cell_type": "code",
   "execution_count": 2,
   "id": "bdbca7c1-1425-4bf2-8cd6-343990f764fa",
   "metadata": {},
   "outputs": [],
   "source": [
    "def two_sum(nums,target):\n",
    "    d = {}\n",
    "    for index, num in enumerate(nums):\n",
    "        if target-num not in d:\n",
    "            d[num] = index\n",
    "        else:\n",
    "            return d[target-num], index"
   ]
  },
  {
   "cell_type": "code",
   "execution_count": 5,
   "id": "34734015-742d-4f40-9fef-933720afb08a",
   "metadata": {},
   "outputs": [
    {
     "data": {
      "text/plain": [
       "(2, 3)"
      ]
     },
     "execution_count": 5,
     "metadata": {},
     "output_type": "execute_result"
    }
   ],
   "source": [
    "two_sum(nums,target)"
   ]
  },
  {
   "cell_type": "code",
   "execution_count": null,
   "id": "297a59c0-1563-436d-9b93-288d64e8b7c9",
   "metadata": {},
   "outputs": [],
   "source": []
  },
  {
   "cell_type": "code",
   "execution_count": 6,
   "id": "b6efce42-1dd0-46b0-97e9-06baabb3903e",
   "metadata": {},
   "outputs": [],
   "source": [
    "nums1 = [2, 7, 25, 15]"
   ]
  },
  {
   "cell_type": "code",
   "execution_count": 7,
   "id": "b14877ad-e7da-471f-8262-1eb1d94128b1",
   "metadata": {},
   "outputs": [],
   "source": [
    "def sortfun(nums1):\n",
    "    n = len(nums1)\n",
    "    for x in range(n):\n",
    "        for y in range(n-1):\n",
    "            if nums1[y] > nums[y+1]:\n",
    "                nums1[y] , nums[y+1] = nums1[y+1] ,nums[y]\n",
    "    return nums1"
   ]
  },
  {
   "cell_type": "code",
   "execution_count": 8,
   "id": "aaf61abc-535a-4b30-8ac0-a7bd8b399be6",
   "metadata": {},
   "outputs": [
    {
     "data": {
      "text/plain": [
       "[2, 7, 15, 15]"
      ]
     },
     "execution_count": 8,
     "metadata": {},
     "output_type": "execute_result"
    }
   ],
   "source": [
    "sortfun(nums1)"
   ]
  },
  {
   "cell_type": "code",
   "execution_count": null,
   "id": "1675fede-8875-4322-80b1-4400b80918e6",
   "metadata": {},
   "outputs": [],
   "source": []
  },
  {
   "cell_type": "code",
   "execution_count": null,
   "id": "27274440-68be-4605-b1dc-0688c579b684",
   "metadata": {},
   "outputs": [],
   "source": []
  }
 ],
 "metadata": {
  "kernelspec": {
   "display_name": "Python 3 (ipykernel)",
   "language": "python",
   "name": "python3"
  },
  "language_info": {
   "codemirror_mode": {
    "name": "ipython",
    "version": 3
   },
   "file_extension": ".py",
   "mimetype": "text/x-python",
   "name": "python",
   "nbconvert_exporter": "python",
   "pygments_lexer": "ipython3",
   "version": "3.9.13"
  }
 },
 "nbformat": 4,
 "nbformat_minor": 5
}
